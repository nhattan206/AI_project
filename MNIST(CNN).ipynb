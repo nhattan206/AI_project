{
  "nbformat": 4,
  "nbformat_minor": 0,
  "metadata": {
    "colab": {
      "name": "MNIST(CNN).ipynb",
      "provenance": [],
      "authorship_tag": "ABX9TyOy+ubTPupDJZEbQABGulSQ",
      "include_colab_link": true
    },
    "kernelspec": {
      "name": "python3",
      "display_name": "Python 3"
    },
    "language_info": {
      "name": "python"
    },
    "accelerator": "GPU"
  },
  "cells": [
    {
      "cell_type": "markdown",
      "metadata": {
        "id": "view-in-github",
        "colab_type": "text"
      },
      "source": [
        "<a href=\"https://colab.research.google.com/github/nhattan206/AI_project/blob/main/MNIST(CNN).ipynb\" target=\"_parent\"><img src=\"https://colab.research.google.com/assets/colab-badge.svg\" alt=\"Open In Colab\"/></a>"
      ]
    },
    {
      "cell_type": "code",
      "execution_count": 15,
      "metadata": {
        "id": "Rn3muhydgY3q"
      },
      "outputs": [],
      "source": [
        "from IPython.core.pylabtools import figsize\n",
        "# Nhận diện chữ số\n",
        "import numpy as np\n",
        "import pandas as pd\n",
        "from keras.datasets import mnist\n",
        "from keras.utils import np_utils\n",
        "import matplotlib.pyplot as plt\n",
        "from keras.models import Sequential\n",
        "from keras.layers import Dense, Activation, Dropout,Flatten,Conv2D,MaxPooling2D\n",
        "from tensorflow.keras.optimizers import RMSprop, Adam, SGD\n",
        "import numpy as np\n",
        "from keras.backend import conv2d"
      ]
    },
    {
      "cell_type": "code",
      "source": [
        "(x_train, y_train),(x_test, y_test) = mnist.load_data()\n",
        "\n",
        "for i in range(9):\n",
        "  plt.subplot(330+1+i)\n",
        "  plt.imshow(x_train[i],cmap = plt.get_cmap('gray'))\n",
        "plt.show()"
      ],
      "metadata": {
        "colab": {
          "base_uri": "https://localhost:8080/",
          "height": 268
        },
        "id": "hePBKsFioBDL",
        "outputId": "4b15731a-9f20-4a8e-9033-01b180638633"
      },
      "execution_count": 16,
      "outputs": [
        {
          "output_type": "display_data",
          "data": {
            "text/plain": [
              "<Figure size 432x288 with 9 Axes>"
            ],
            "image/png": "[encoded data removed]"
          },
          "metadata": {
            "needs_background": "light"
          }
        }
      ]
    },
    {
      "cell_type": "code",
      "source": [
        "# Reshape lại dữ liệu\n",
        "x_train = x_train.astype('float32')\n",
        "x_test = x_test.astype('float32')\n",
        "x_train/=255 #255 là giá trị lớn nhất của x train và x test\n",
        "x_test/=255\n",
        "y_train = np_utils.to_categorical(y_train,10)\n",
        "y_test = np_utils.to_categorical(y_test,10)"
      ],
      "metadata": {
        "id": "ofmzO0EooGGy"
      },
      "execution_count": 17,
      "outputs": []
    },
    {
      "cell_type": "code",
      "source": [
        "#Tạo mô hình CNN\n",
        "model=Sequential()\n",
        "#Block 1\n",
        "model.add(Conv2D(32,(3,3),activation='relu',kernel_initializer = 'he_uniform',padding='same',input_shape=(28,28,1)))\n",
        " #32 sau conv2d là số lần học vs kích thước 3x3 của kernel, input shape là 32x32, 3 kênh màu\n",
        "model.add(Conv2D(32,(3,3),activation='relu',kernel_initializer='he_uniform',padding='same'))\n",
        "model.add(MaxPooling2D(2,2))\n",
        "#Block 2\n",
        "model.add(Conv2D(64,(3,3),activation='relu',kernel_initializer = 'he_uniform',padding='same'))\n",
        "model.add(Conv2D(64,(3,3),activation='relu',kernel_initializer='he_uniform',padding='same'))\n",
        "model.add(MaxPooling2D(2,2))\n",
        "#Block 3\n",
        "model.add(Conv2D(128,(3,3),activation='relu',kernel_initializer = 'he_uniform',padding='same'))\n",
        "model.add(Conv2D(128,(3,3),activation='relu',kernel_initializer='he_uniform',padding='same'))\n",
        "model.add(MaxPooling2D(2,2))\n",
        "#Add ANN\n",
        "model.add(Flatten())\n",
        "model.add(Dense(256,activation='relu',kernel_initializer='he_uniform'))\n",
        "model.add(Dense(128,activation='relu'))\n",
        "model.add(Dense(10,activation='softmax'))\n",
        "model.summary()"
      ],
      "metadata": {
        "colab": {
          "base_uri": "https://localhost:8080/"
        },
        "id": "9HgaUMkUoTAK",
        "outputId": "3748217e-f8e2-41a7-8afc-b845d08bc372"
      },
      "execution_count": 18,
      "outputs": [
        {
          "output_type": "stream",
          "name": "stdout",
          "text": [
            "Model: \"sequential_3\"\n",
            "_________________________________________________________________\n",
            " Layer (type)                Output Shape              Param #   \n",
            "=================================================================\n",
            " conv2d_14 (Conv2D)          (None, 28, 28, 32)        320       \n",
            "                                                                 \n",
            " conv2d_15 (Conv2D)          (None, 28, 28, 32)        9248      \n",
            "                                                                 \n",
            " max_pooling2d_6 (MaxPooling  (None, 14, 14, 32)       0         \n",
            " 2D)                                                             \n",
            "                                                                 \n",
            " conv2d_16 (Conv2D)          (None, 14, 14, 64)        18496     \n",
            "                                                                 \n",
            " conv2d_17 (Conv2D)          (None, 14, 14, 64)        36928     \n",
            "                                                                 \n",
            " max_pooling2d_7 (MaxPooling  (None, 7, 7, 64)         0         \n",
            " 2D)                                                             \n",
            "                                                                 \n",
            " conv2d_18 (Conv2D)          (None, 7, 7, 128)         73856     \n",
            "                                                                 \n",
            " conv2d_19 (Conv2D)          (None, 7, 7, 128)         147584    \n",
            "                                                                 \n",
            " max_pooling2d_8 (MaxPooling  (None, 3, 3, 128)        0         \n",
            " 2D)                                                             \n",
            "                                                                 \n",
            " flatten_2 (Flatten)         (None, 1152)              0         \n",
            "                                                                 \n",
            " dense_6 (Dense)             (None, 256)               295168    \n",
            "                                                                 \n",
            " dense_7 (Dense)             (None, 128)               32896     \n",
            "                                                                 \n",
            " dense_8 (Dense)             (None, 10)                1290      \n",
            "                                                                 \n",
            "=================================================================\n",
            "Total params: 615,786\n",
            "Trainable params: 615,786\n",
            "Non-trainable params: 0\n",
            "_________________________________________________________________\n"
          ]
        }
      ]
    },
    {
      "cell_type": "code",
      "source": [
        "#Bien Dich\n",
        "opt=SGD(lr=0.01, momentum=0.9)\n",
        "model.compile(loss='categorical_crossentropy',optimizer=opt,metrics=['accuracy'])\n",
        "history=model.fit(x_train,y_train,epochs=100,batch_size=128,validation_data=(x_test,y_test),verbose=1)"
      ],
      "metadata": {
        "colab": {
          "base_uri": "https://localhost:8080/"
        },
        "id": "W1wpwMO3omHy",
        "outputId": "a9052e58-45e5-4bee-9b74-899e8d10b7cd"
      },
      "execution_count": 19,
      "outputs": [
        {
          "output_type": "stream",
          "name": "stderr",
          "text": [
            "/usr/local/lib/python3.7/dist-packages/keras/optimizer_v2/gradient_descent.py:102: UserWarning: The `lr` argument is deprecated, use `learning_rate` instead.\n",
            "  super(SGD, self).__init__(name, **kwargs)\n"
          ]
        },
        {
          "output_type": "stream",
          "name": "stdout",
          "text": [
            "Epoch 1/100\n",
            "469/469 [==============================] - 17s 13ms/step - loss: 0.3345 - accuracy: 0.8965 - val_loss: 0.0428 - val_accuracy: 0.9857\n",
            "Epoch 2/100\n",
            "469/469 [==============================] - 6s 12ms/step - loss: 0.0493 - accuracy: 0.9845 - val_loss: 0.0366 - val_accuracy: 0.9882\n",
            "Epoch 3/100\n",
            "469/469 [==============================] - 6s 12ms/step - loss: 0.0326 - accuracy: 0.9894 - val_loss: 0.0242 - val_accuracy: 0.9916\n",
            "Epoch 4/100\n",
            "469/469 [==============================] - 6s 12ms/step - loss: 0.0222 - accuracy: 0.9931 - val_loss: 0.0351 - val_accuracy: 0.9886\n",
            "Epoch 5/100\n",
            "469/469 [==============================] - 6s 12ms/step - loss: 0.0170 - accuracy: 0.9945 - val_loss: 0.0366 - val_accuracy: 0.9891\n",
            "Epoch 6/100\n",
            "469/469 [==============================] - 6s 12ms/step - loss: 0.0133 - accuracy: 0.9957 - val_loss: 0.0276 - val_accuracy: 0.9907\n",
            "Epoch 7/100\n",
            "469/469 [==============================] - 6s 13ms/step - loss: 0.0113 - accuracy: 0.9964 - val_loss: 0.0270 - val_accuracy: 0.9920\n",
            "Epoch 8/100\n",
            "469/469 [==============================] - 6s 12ms/step - loss: 0.0075 - accuracy: 0.9977 - val_loss: 0.0259 - val_accuracy: 0.9923\n",
            "Epoch 9/100\n",
            "469/469 [==============================] - 6s 13ms/step - loss: 0.0065 - accuracy: 0.9980 - val_loss: 0.0360 - val_accuracy: 0.9910\n",
            "Epoch 10/100\n",
            "469/469 [==============================] - 6s 12ms/step - loss: 0.0033 - accuracy: 0.9990 - val_loss: 0.0308 - val_accuracy: 0.9923\n",
            "Epoch 11/100\n",
            "469/469 [==============================] - 6s 13ms/step - loss: 0.0029 - accuracy: 0.9990 - val_loss: 0.0299 - val_accuracy: 0.9922\n",
            "Epoch 12/100\n",
            "469/469 [==============================] - 6s 13ms/step - loss: 0.0024 - accuracy: 0.9993 - val_loss: 0.0303 - val_accuracy: 0.9916\n",
            "Epoch 13/100\n",
            "469/469 [==============================] - 6s 13ms/step - loss: 0.0033 - accuracy: 0.9990 - val_loss: 0.0373 - val_accuracy: 0.9908\n",
            "Epoch 14/100\n",
            "469/469 [==============================] - 6s 12ms/step - loss: 0.0031 - accuracy: 0.9988 - val_loss: 0.0303 - val_accuracy: 0.9919\n",
            "Epoch 15/100\n",
            "469/469 [==============================] - 6s 13ms/step - loss: 0.0032 - accuracy: 0.9989 - val_loss: 0.0347 - val_accuracy: 0.9905\n",
            "Epoch 16/100\n",
            "469/469 [==============================] - 6s 12ms/step - loss: 0.0037 - accuracy: 0.9986 - val_loss: 0.0290 - val_accuracy: 0.9914\n",
            "Epoch 17/100\n",
            "469/469 [==============================] - 6s 13ms/step - loss: 0.0039 - accuracy: 0.9987 - val_loss: 0.0299 - val_accuracy: 0.9925\n",
            "Epoch 18/100\n",
            "469/469 [==============================] - 6s 12ms/step - loss: 0.0012 - accuracy: 0.9997 - val_loss: 0.0306 - val_accuracy: 0.9927\n",
            "Epoch 19/100\n",
            "469/469 [==============================] - 6s 12ms/step - loss: 7.4351e-04 - accuracy: 0.9997 - val_loss: 0.0344 - val_accuracy: 0.9912\n",
            "Epoch 20/100\n",
            "469/469 [==============================] - 6s 13ms/step - loss: 1.6587e-04 - accuracy: 1.0000 - val_loss: 0.0314 - val_accuracy: 0.9929\n",
            "Epoch 21/100\n",
            "469/469 [==============================] - 6s 13ms/step - loss: 4.5682e-05 - accuracy: 1.0000 - val_loss: 0.0298 - val_accuracy: 0.9934\n",
            "Epoch 22/100\n",
            "469/469 [==============================] - 6s 12ms/step - loss: 2.9852e-05 - accuracy: 1.0000 - val_loss: 0.0304 - val_accuracy: 0.9933\n",
            "Epoch 23/100\n",
            "469/469 [==============================] - 6s 12ms/step - loss: 2.4578e-05 - accuracy: 1.0000 - val_loss: 0.0308 - val_accuracy: 0.9934\n",
            "Epoch 24/100\n",
            "469/469 [==============================] - 6s 13ms/step - loss: 2.0904e-05 - accuracy: 1.0000 - val_loss: 0.0312 - val_accuracy: 0.9933\n",
            "Epoch 25/100\n",
            "469/469 [==============================] - 6s 12ms/step - loss: 1.8246e-05 - accuracy: 1.0000 - val_loss: 0.0316 - val_accuracy: 0.9934\n",
            "Epoch 26/100\n",
            "469/469 [==============================] - 6s 12ms/step - loss: 1.6240e-05 - accuracy: 1.0000 - val_loss: 0.0319 - val_accuracy: 0.9933\n",
            "Epoch 27/100\n",
            "469/469 [==============================] - 6s 13ms/step - loss: 1.4699e-05 - accuracy: 1.0000 - val_loss: 0.0322 - val_accuracy: 0.9934\n",
            "Epoch 28/100\n",
            "469/469 [==============================] - 6s 13ms/step - loss: 1.3459e-05 - accuracy: 1.0000 - val_loss: 0.0324 - val_accuracy: 0.9933\n",
            "Epoch 29/100\n",
            "469/469 [==============================] - 6s 12ms/step - loss: 1.2347e-05 - accuracy: 1.0000 - val_loss: 0.0326 - val_accuracy: 0.9933\n",
            "Epoch 30/100\n",
            "469/469 [==============================] - 6s 12ms/step - loss: 1.1453e-05 - accuracy: 1.0000 - val_loss: 0.0328 - val_accuracy: 0.9932\n",
            "Epoch 31/100\n",
            "469/469 [==============================] - 6s 13ms/step - loss: 1.0690e-05 - accuracy: 1.0000 - val_loss: 0.0331 - val_accuracy: 0.9932\n",
            "Epoch 32/100\n",
            "469/469 [==============================] - 6s 13ms/step - loss: 9.9425e-06 - accuracy: 1.0000 - val_loss: 0.0332 - val_accuracy: 0.9933\n",
            "Epoch 33/100\n",
            "469/469 [==============================] - 6s 13ms/step - loss: 9.3185e-06 - accuracy: 1.0000 - val_loss: 0.0334 - val_accuracy: 0.9932\n",
            "Epoch 34/100\n",
            "469/469 [==============================] - 6s 12ms/step - loss: 8.8345e-06 - accuracy: 1.0000 - val_loss: 0.0336 - val_accuracy: 0.9932\n",
            "Epoch 35/100\n",
            "469/469 [==============================] - 6s 13ms/step - loss: 8.3606e-06 - accuracy: 1.0000 - val_loss: 0.0338 - val_accuracy: 0.9932\n",
            "Epoch 36/100\n",
            "469/469 [==============================] - 6s 12ms/step - loss: 7.9335e-06 - accuracy: 1.0000 - val_loss: 0.0339 - val_accuracy: 0.9932\n",
            "Epoch 37/100\n",
            "469/469 [==============================] - 6s 13ms/step - loss: 7.5323e-06 - accuracy: 1.0000 - val_loss: 0.0341 - val_accuracy: 0.9931\n",
            "Epoch 38/100\n",
            "469/469 [==============================] - 6s 12ms/step - loss: 7.2139e-06 - accuracy: 1.0000 - val_loss: 0.0342 - val_accuracy: 0.9931\n",
            "Epoch 39/100\n",
            "469/469 [==============================] - 6s 12ms/step - loss: 6.8822e-06 - accuracy: 1.0000 - val_loss: 0.0343 - val_accuracy: 0.9931\n",
            "Epoch 40/100\n",
            "469/469 [==============================] - 6s 12ms/step - loss: 6.5854e-06 - accuracy: 1.0000 - val_loss: 0.0345 - val_accuracy: 0.9931\n",
            "Epoch 41/100\n",
            "469/469 [==============================] - 6s 13ms/step - loss: 6.3105e-06 - accuracy: 1.0000 - val_loss: 0.0346 - val_accuracy: 0.9930\n",
            "Epoch 42/100\n",
            "469/469 [==============================] - 6s 13ms/step - loss: 6.0718e-06 - accuracy: 1.0000 - val_loss: 0.0347 - val_accuracy: 0.9931\n",
            "Epoch 43/100\n",
            "469/469 [==============================] - 6s 13ms/step - loss: 5.8350e-06 - accuracy: 1.0000 - val_loss: 0.0348 - val_accuracy: 0.9930\n",
            "Epoch 44/100\n",
            "469/469 [==============================] - 6s 12ms/step - loss: 5.6367e-06 - accuracy: 1.0000 - val_loss: 0.0350 - val_accuracy: 0.9930\n",
            "Epoch 45/100\n",
            "469/469 [==============================] - 6s 13ms/step - loss: 5.4365e-06 - accuracy: 1.0000 - val_loss: 0.0351 - val_accuracy: 0.9929\n",
            "Epoch 46/100\n",
            "469/469 [==============================] - 6s 12ms/step - loss: 5.2432e-06 - accuracy: 1.0000 - val_loss: 0.0352 - val_accuracy: 0.9930\n",
            "Epoch 47/100\n",
            "469/469 [==============================] - 6s 13ms/step - loss: 5.0698e-06 - accuracy: 1.0000 - val_loss: 0.0353 - val_accuracy: 0.9928\n",
            "Epoch 48/100\n",
            "469/469 [==============================] - 6s 13ms/step - loss: 4.9155e-06 - accuracy: 1.0000 - val_loss: 0.0354 - val_accuracy: 0.9929\n",
            "Epoch 49/100\n",
            "469/469 [==============================] - 6s 12ms/step - loss: 4.7531e-06 - accuracy: 1.0000 - val_loss: 0.0355 - val_accuracy: 0.9930\n",
            "Epoch 50/100\n",
            "469/469 [==============================] - 6s 13ms/step - loss: 4.6080e-06 - accuracy: 1.0000 - val_loss: 0.0356 - val_accuracy: 0.9929\n",
            "Epoch 51/100\n",
            "469/469 [==============================] - 6s 12ms/step - loss: 4.4667e-06 - accuracy: 1.0000 - val_loss: 0.0357 - val_accuracy: 0.9928\n",
            "Epoch 52/100\n",
            "469/469 [==============================] - 6s 12ms/step - loss: 4.3501e-06 - accuracy: 1.0000 - val_loss: 0.0358 - val_accuracy: 0.9927\n",
            "Epoch 53/100\n",
            "469/469 [==============================] - 6s 12ms/step - loss: 4.2269e-06 - accuracy: 1.0000 - val_loss: 0.0359 - val_accuracy: 0.9927\n",
            "Epoch 54/100\n",
            "469/469 [==============================] - 6s 12ms/step - loss: 4.1063e-06 - accuracy: 1.0000 - val_loss: 0.0360 - val_accuracy: 0.9927\n",
            "Epoch 55/100\n",
            "469/469 [==============================] - 6s 12ms/step - loss: 4.0017e-06 - accuracy: 1.0000 - val_loss: 0.0360 - val_accuracy: 0.9927\n",
            "Epoch 56/100\n",
            "469/469 [==============================] - 6s 13ms/step - loss: 3.9033e-06 - accuracy: 1.0000 - val_loss: 0.0361 - val_accuracy: 0.9927\n",
            "Epoch 57/100\n",
            "469/469 [==============================] - 6s 12ms/step - loss: 3.8070e-06 - accuracy: 1.0000 - val_loss: 0.0362 - val_accuracy: 0.9928\n",
            "Epoch 58/100\n",
            "469/469 [==============================] - 6s 13ms/step - loss: 3.7016e-06 - accuracy: 1.0000 - val_loss: 0.0363 - val_accuracy: 0.9928\n",
            "Epoch 59/100\n",
            "469/469 [==============================] - 6s 13ms/step - loss: 3.6157e-06 - accuracy: 1.0000 - val_loss: 0.0364 - val_accuracy: 0.9928\n",
            "Epoch 60/100\n",
            "469/469 [==============================] - 6s 12ms/step - loss: 3.5329e-06 - accuracy: 1.0000 - val_loss: 0.0364 - val_accuracy: 0.9928\n",
            "Epoch 61/100\n",
            "469/469 [==============================] - 6s 12ms/step - loss: 3.4543e-06 - accuracy: 1.0000 - val_loss: 0.0365 - val_accuracy: 0.9928\n",
            "Epoch 62/100\n",
            "469/469 [==============================] - 6s 12ms/step - loss: 3.3774e-06 - accuracy: 1.0000 - val_loss: 0.0366 - val_accuracy: 0.9928\n",
            "Epoch 63/100\n",
            "469/469 [==============================] - 6s 12ms/step - loss: 3.3023e-06 - accuracy: 1.0000 - val_loss: 0.0367 - val_accuracy: 0.9928\n",
            "Epoch 64/100\n",
            "469/469 [==============================] - 6s 12ms/step - loss: 3.2371e-06 - accuracy: 1.0000 - val_loss: 0.0367 - val_accuracy: 0.9928\n",
            "Epoch 65/100\n",
            "469/469 [==============================] - 6s 13ms/step - loss: 3.1622e-06 - accuracy: 1.0000 - val_loss: 0.0368 - val_accuracy: 0.9928\n",
            "Epoch 66/100\n",
            "469/469 [==============================] - 6s 12ms/step - loss: 3.0937e-06 - accuracy: 1.0000 - val_loss: 0.0369 - val_accuracy: 0.9928\n",
            "Epoch 67/100\n",
            "469/469 [==============================] - 6s 12ms/step - loss: 3.0317e-06 - accuracy: 1.0000 - val_loss: 0.0369 - val_accuracy: 0.9928\n",
            "Epoch 68/100\n",
            "469/469 [==============================] - 6s 13ms/step - loss: 2.9712e-06 - accuracy: 1.0000 - val_loss: 0.0370 - val_accuracy: 0.9928\n",
            "Epoch 69/100\n",
            "469/469 [==============================] - 6s 12ms/step - loss: 2.9137e-06 - accuracy: 1.0000 - val_loss: 0.0371 - val_accuracy: 0.9928\n",
            "Epoch 70/100\n",
            "469/469 [==============================] - 6s 13ms/step - loss: 2.8604e-06 - accuracy: 1.0000 - val_loss: 0.0371 - val_accuracy: 0.9928\n",
            "Epoch 71/100\n",
            "469/469 [==============================] - 6s 12ms/step - loss: 2.8015e-06 - accuracy: 1.0000 - val_loss: 0.0372 - val_accuracy: 0.9928\n",
            "Epoch 72/100\n",
            "469/469 [==============================] - 6s 12ms/step - loss: 2.7529e-06 - accuracy: 1.0000 - val_loss: 0.0373 - val_accuracy: 0.9928\n",
            "Epoch 73/100\n",
            "469/469 [==============================] - 6s 12ms/step - loss: 2.6974e-06 - accuracy: 1.0000 - val_loss: 0.0373 - val_accuracy: 0.9928\n",
            "Epoch 74/100\n",
            "469/469 [==============================] - 6s 13ms/step - loss: 2.6531e-06 - accuracy: 1.0000 - val_loss: 0.0374 - val_accuracy: 0.9928\n",
            "Epoch 75/100\n",
            "469/469 [==============================] - 6s 13ms/step - loss: 2.6019e-06 - accuracy: 1.0000 - val_loss: 0.0374 - val_accuracy: 0.9928\n",
            "Epoch 76/100\n",
            "469/469 [==============================] - 6s 12ms/step - loss: 2.5598e-06 - accuracy: 1.0000 - val_loss: 0.0375 - val_accuracy: 0.9928\n",
            "Epoch 77/100\n",
            "469/469 [==============================] - 6s 13ms/step - loss: 2.5157e-06 - accuracy: 1.0000 - val_loss: 0.0375 - val_accuracy: 0.9928\n",
            "Epoch 78/100\n",
            "469/469 [==============================] - 6s 13ms/step - loss: 2.4742e-06 - accuracy: 1.0000 - val_loss: 0.0376 - val_accuracy: 0.9927\n",
            "Epoch 79/100\n",
            "469/469 [==============================] - 6s 13ms/step - loss: 2.4342e-06 - accuracy: 1.0000 - val_loss: 0.0377 - val_accuracy: 0.9927\n",
            "Epoch 80/100\n",
            "469/469 [==============================] - 6s 13ms/step - loss: 2.3863e-06 - accuracy: 1.0000 - val_loss: 0.0377 - val_accuracy: 0.9927\n",
            "Epoch 81/100\n",
            "469/469 [==============================] - 6s 12ms/step - loss: 2.3513e-06 - accuracy: 1.0000 - val_loss: 0.0378 - val_accuracy: 0.9927\n",
            "Epoch 82/100\n",
            "469/469 [==============================] - 6s 12ms/step - loss: 2.3200e-06 - accuracy: 1.0000 - val_loss: 0.0378 - val_accuracy: 0.9927\n",
            "Epoch 83/100\n",
            "469/469 [==============================] - 6s 12ms/step - loss: 2.2769e-06 - accuracy: 1.0000 - val_loss: 0.0379 - val_accuracy: 0.9927\n",
            "Epoch 84/100\n",
            "469/469 [==============================] - 6s 12ms/step - loss: 2.2438e-06 - accuracy: 1.0000 - val_loss: 0.0379 - val_accuracy: 0.9927\n",
            "Epoch 85/100\n",
            "469/469 [==============================] - 6s 12ms/step - loss: 2.2107e-06 - accuracy: 1.0000 - val_loss: 0.0380 - val_accuracy: 0.9927\n",
            "Epoch 86/100\n",
            "469/469 [==============================] - 6s 12ms/step - loss: 2.1743e-06 - accuracy: 1.0000 - val_loss: 0.0380 - val_accuracy: 0.9927\n",
            "Epoch 87/100\n",
            "469/469 [==============================] - 6s 12ms/step - loss: 2.1451e-06 - accuracy: 1.0000 - val_loss: 0.0381 - val_accuracy: 0.9927\n",
            "Epoch 88/100\n",
            "469/469 [==============================] - 6s 13ms/step - loss: 2.1143e-06 - accuracy: 1.0000 - val_loss: 0.0381 - val_accuracy: 0.9927\n",
            "Epoch 89/100\n",
            "469/469 [==============================] - 6s 13ms/step - loss: 2.0799e-06 - accuracy: 1.0000 - val_loss: 0.0382 - val_accuracy: 0.9927\n",
            "Epoch 90/100\n",
            "469/469 [==============================] - 6s 12ms/step - loss: 2.0512e-06 - accuracy: 1.0000 - val_loss: 0.0382 - val_accuracy: 0.9927\n",
            "Epoch 91/100\n",
            "469/469 [==============================] - 6s 13ms/step - loss: 2.0217e-06 - accuracy: 1.0000 - val_loss: 0.0383 - val_accuracy: 0.9927\n",
            "Epoch 92/100\n",
            "469/469 [==============================] - 6s 13ms/step - loss: 1.9939e-06 - accuracy: 1.0000 - val_loss: 0.0383 - val_accuracy: 0.9927\n",
            "Epoch 93/100\n",
            "469/469 [==============================] - 6s 12ms/step - loss: 1.9676e-06 - accuracy: 1.0000 - val_loss: 0.0384 - val_accuracy: 0.9927\n",
            "Epoch 94/100\n",
            "469/469 [==============================] - 6s 13ms/step - loss: 1.9385e-06 - accuracy: 1.0000 - val_loss: 0.0384 - val_accuracy: 0.9927\n",
            "Epoch 95/100\n",
            "469/469 [==============================] - 6s 13ms/step - loss: 1.9149e-06 - accuracy: 1.0000 - val_loss: 0.0385 - val_accuracy: 0.9927\n",
            "Epoch 96/100\n",
            "469/469 [==============================] - 6s 12ms/step - loss: 1.8889e-06 - accuracy: 1.0000 - val_loss: 0.0385 - val_accuracy: 0.9927\n",
            "Epoch 97/100\n",
            "469/469 [==============================] - 6s 13ms/step - loss: 1.8636e-06 - accuracy: 1.0000 - val_loss: 0.0385 - val_accuracy: 0.9927\n",
            "Epoch 98/100\n",
            "469/469 [==============================] - 6s 12ms/step - loss: 1.8409e-06 - accuracy: 1.0000 - val_loss: 0.0386 - val_accuracy: 0.9927\n",
            "Epoch 99/100\n",
            "469/469 [==============================] - 6s 13ms/step - loss: 1.8173e-06 - accuracy: 1.0000 - val_loss: 0.0386 - val_accuracy: 0.9927\n",
            "Epoch 100/100\n",
            "469/469 [==============================] - 6s 12ms/step - loss: 1.7936e-06 - accuracy: 1.0000 - val_loss: 0.0387 - val_accuracy: 0.9927\n"
          ]
        }
      ]
    },
    {
      "cell_type": "code",
      "source": [
        "#Ve do thi\n",
        "pd.DataFrame(history.history).plot(figsize= (8,5))\n",
        "plt.grid(True)\n",
        "plt.gca().set_ylim(0,1)\n",
        "plt.show()\n",
        "\n",
        "plt.plot(history.history['accuracy'])\n",
        "plt.plot(history.history['val_accuracy'])\n",
        "plt.title('model accuracy')\n",
        "plt.ylabel('accuracy')\n",
        "plt.xlabel('epoch')\n",
        "plt.legend(['train','validation'], loc = 'upper left')\n",
        "plt.show()"
      ],
      "metadata": {
        "colab": {
          "base_uri": "https://localhost:8080/",
          "height": 602
        },
        "id": "_vRameNSosvT",
        "outputId": "65bc14d3-cf45-4d3f-9264-8df4872c327c"
      },
      "execution_count": 20,
      "outputs": [
        {
          "output_type": "display_data",
          "data": {
            "text/plain": [
              "<Figure size 576x360 with 1 Axes>"
            ],
            "image/png": "[encoded data removed]"
          },
          "metadata": {
            "needs_background": "light"
          }
        },
        {
          "output_type": "display_data",
          "data": {
            "text/plain": [
              "<Figure size 432x288 with 1 Axes>"
            ],
            "image/png": "[encoded data removed]"
          },
          "metadata": {
            "needs_background": "light"
          }
        }
      ]
    }
  ]
}